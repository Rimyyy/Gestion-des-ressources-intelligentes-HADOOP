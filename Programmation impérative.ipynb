{
 "cells": [
  {
   "cell_type": "code",
   "execution_count": 2,
   "id": "e71f2265-4ff2-4f8c-ab0b-1bc133e55487",
   "metadata": {},
   "outputs": [],
   "source": [
    "def suite(n):\n",
    "  if n == 1:\n",
    "    return 12\n",
    "  else:\n",
    "    return 3 * suite(n - 1) + 5"
   ]
  },
  {
   "cell_type": "code",
   "execution_count": 4,
   "id": "a93cbeb3-74e5-4742-8967-88f3508fd2b4",
   "metadata": {},
   "outputs": [
    {
     "data": {
      "text/plain": [
       "41"
      ]
     },
     "execution_count": 4,
     "metadata": {},
     "output_type": "execute_result"
    }
   ],
   "source": [
    "suite(2)"
   ]
  },
  {
   "cell_type": "code",
   "execution_count": 5,
   "id": "a5bc1bd8-04c7-47fe-a221-235ce4c16169",
   "metadata": {},
   "outputs": [],
   "source": [
    "def affichage(n):\n",
    "  for i in range(0, n + 1):\n",
    "    print(round(i * 0.25, 2))\n"
   ]
  },
  {
   "cell_type": "code",
   "execution_count": 6,
   "id": "454028bd-ea96-4721-b297-ad24dc165ed5",
   "metadata": {},
   "outputs": [
    {
     "name": "stdout",
     "output_type": "stream",
     "text": [
      "0.0\n",
      "0.25\n",
      "0.5\n",
      "0.75\n",
      "1.0\n"
     ]
    }
   ],
   "source": [
    "affichage(4)"
   ]
  },
  {
   "cell_type": "code",
   "execution_count": 14,
   "id": "f99d584a-bffa-4b99-8938-ecde5b7aba66",
   "metadata": {},
   "outputs": [],
   "source": [
    "def absolue(liste):\n",
    "  for i in range(len(liste)):\n",
    "    if liste[i] >= 0:\n",
    "      continue\n",
    "    liste[i] = -liste[i]"
   ]
  },
  {
   "cell_type": "code",
   "execution_count": 18,
   "id": "44adcbd2-1034-4dc6-a410-ac093519b67e",
   "metadata": {},
   "outputs": [
    {
     "name": "stdout",
     "output_type": "stream",
     "text": [
      "abs None\n"
     ]
    }
   ],
   "source": [
    "liste=[3,-5,7,-4]\n"
   ]
  },
  {
   "cell_type": "code",
   "execution_count": 19,
   "id": "7b56f889-4034-4b9e-84a0-0b3276f35b9a",
   "metadata": {},
   "outputs": [],
   "source": [
    "def inflation_futur(année, n):\n",
    "  for i in range(n):\n",
    "    taux = 3 if i % 2 == 0 else 5\n",
    "    print(f\"{année + i} +{taux}%\")\n"
   ]
  },
  {
   "cell_type": "code",
   "execution_count": 21,
   "id": "a843e845-81d1-4be5-8154-8a8b9b4db3a3",
   "metadata": {},
   "outputs": [
    {
     "name": "stdout",
     "output_type": "stream",
     "text": [
      "2013 +3%\n",
      "2014 +5%\n",
      "2015 +3%\n",
      "2016 +5%\n",
      "2017 +3%\n",
      "2018 +5%\n"
     ]
    }
   ],
   "source": [
    "inflation_futur(2013,6)"
   ]
  },
  {
   "cell_type": "code",
   "execution_count": 22,
   "id": "480fadb9-800f-4a6c-a4a0-cb0b70f35576",
   "metadata": {},
   "outputs": [],
   "source": [
    "def révolution(année, prix):\n",
    "\n",
    "  while prix <= 2:\n",
    "    année += 1  \n",
    "    prix *= 1.15  # Augmentation de 15%\n",
    "    print(f\"{année} prix du pain : {prix:.2f} €\")\n",
    "  print(f\"{année - 1} année de la révolution !\")\n"
   ]
  },
  {
   "cell_type": "code",
   "execution_count": 25,
   "id": "9f010717-494f-4add-b6c7-de04aec76d25",
   "metadata": {},
   "outputs": [
    {
     "name": "stdout",
     "output_type": "stream",
     "text": [
      "2021 prix du pain : 1.15 €\n",
      "2022 prix du pain : 1.32 €\n",
      "2023 prix du pain : 1.52 €\n",
      "2024 prix du pain : 1.75 €\n",
      "2025 prix du pain : 2.01 €\n",
      "2024 année de la révolution !\n"
     ]
    }
   ],
   "source": [
    "révolution(2020, 1)  # Simule l'évolution du prix du pain à partir de 1.2€ en 2023"
   ]
  },
  {
   "cell_type": "code",
   "execution_count": 26,
   "id": "67ef0971-3088-4a1e-adaf-bb21a617a8cb",
   "metadata": {},
   "outputs": [],
   "source": [
    "def est_majuscule(car):\n",
    "\n",
    "    if ord(car) >= ord('A') and ord(car) <= ord('Z'):\n",
    "        return True\n",
    "    elif car == \"_\":\n",
    "        return True\n",
    "    else:\n",
    "        return False\n"
   ]
  },
  {
   "cell_type": "code",
   "execution_count": 28,
   "id": "db27f838-da2b-43c9-a16a-cd39304d7930",
   "metadata": {},
   "outputs": [
    {
     "name": "stdout",
     "output_type": "stream",
     "text": [
      "True\n",
      "True\n",
      "False\n",
      "True\n"
     ]
    }
   ],
   "source": [
    "print(est_majuscule(\"A\"))  # True\n",
    "print(est_majuscule(\"_\"))  # True\n",
    "print(est_majuscule(\"a\"))  # False\n",
    "print(est_majuscule(\"B\"))  # False\n"
   ]
  },
  {
   "cell_type": "code",
   "execution_count": 30,
   "id": "6362c37c-1e5c-463f-b00d-a60dd8f23d1b",
   "metadata": {},
   "outputs": [],
   "source": [
    "def extraire(message):\n",
    "    majuscules = \"\"\n",
    "    for car in message:\n",
    "        if est_majuscule(car):\n",
    "            majuscules += car\n",
    "    return majuscules\n"
   ]
  },
  {
   "cell_type": "code",
   "execution_count": 31,
   "id": "3d9d1a8a-3488-485c-918f-102a1544510b",
   "metadata": {},
   "outputs": [
    {
     "name": "stdout",
     "output_type": "stream",
     "text": [
      "BACC\n"
     ]
    }
   ],
   "source": [
    "message = \"Big data And Cloud Comp\"\n",
    "extrait = extraire(message)\n",
    "print(extrait)  # Affiche \"NIAMED_À\""
   ]
  },
  {
   "cell_type": "code",
   "execution_count": 32,
   "id": "05e492d4-77ca-4847-bb87-bebfd4a55ae2",
   "metadata": {},
   "outputs": [],
   "source": [
    "def dechiffrer(message):\n",
    "    extrait = extraire(message)  # Extrait les majuscules et les underscores\n",
    "    message_dechiffre = \"\"\n",
    "    for car in extrait[::-1]:  # Parcourt l'extrait inversé\n",
    "        if car == \"_\":\n",
    "            message_dechiffre += \" \"  # Remplace \"_\" par un espace\n",
    "        else:\n",
    "            message_dechiffre += car.lower()  # Inverse les majuscules\n",
    "    return message_dechiffre\n"
   ]
  },
  {
   "cell_type": "code",
   "execution_count": 33,
   "id": "9ec69eb9-6fd7-474d-858d-8200e48b6682",
   "metadata": {},
   "outputs": [
    {
     "name": "stdout",
     "output_type": "stream",
     "text": [
      "ccab\n"
     ]
    }
   ],
   "source": [
    "message = \"Big data And Cloud Comp\"\n",
    "message_dechiffre = dechiffrer(message)\n",
    "print(message_dechiffre)  # Now correctly outputs \"À DEMAIN\"\n"
   ]
  },
  {
   "cell_type": "code",
   "execution_count": null,
   "id": "7432d87c-2538-42d2-a2c8-e4b1c10f299b",
   "metadata": {},
   "outputs": [],
   "source": []
  },
  {
   "cell_type": "code",
   "execution_count": null,
   "id": "bb51a1ae-1cde-43c3-960b-af91c0813fa7",
   "metadata": {},
   "outputs": [],
   "source": []
  },
  {
   "cell_type": "code",
   "execution_count": 34,
   "id": "a98bcb06-b517-4049-9402-122eaaf76e26",
   "metadata": {},
   "outputs": [
    {
     "name": "stdout",
     "output_type": "stream",
     "text": [
      "Années victorieuses de la France : [2023, 2022, 2024]\n"
     ]
    }
   ],
   "source": [
    "def cocorico(resultats):\n",
    "    annees_victorieuses = []\n",
    "    for match in resultats:\n",
    "        if match[2] > match[3] and match[1] == \"Fr\":\n",
    "            annees_victorieuses.append(match[0])\n",
    "        elif match[2] < match[3] and match[1] == \"An\":\n",
    "            annees_victorieuses.append(match[0])\n",
    "    return annees_victorieuses\n",
    "\n",
    "# Exemple d'utilisation :\n",
    "resultats = [\n",
    "    (2023, \"An\", 10, 50, \"Fr\"), \n",
    "    (2022, \"Fr\", 25, 13, \"An\"),\n",
    "    (2021, \"An\", 23, 20, \"Fr\"),\n",
    "    (2024, \"An\", 10, 50, \"Fr\")\n",
    "]\n",
    "\n",
    "victoires_france = cocorico(resultats)\n",
    "print(\"Années victorieuses de la France :\", victoires_france)\n"
   ]
  },
  {
   "cell_type": "code",
   "execution_count": null,
   "id": "deea3b64-d8b0-4054-b45c-624d5c86f7c6",
   "metadata": {},
   "outputs": [],
   "source": []
  },
  {
   "cell_type": "code",
   "execution_count": 53,
   "id": "a9f110a4-6efb-4542-a0fa-857c58fe3642",
   "metadata": {},
   "outputs": [
    {
     "name": "stdout",
     "output_type": "stream",
     "text": [
      "france 2\n",
      "angel 0\n"
     ]
    }
   ],
   "source": [
    "def nombre_essai(match, equipe):\n",
    "    nb_essais = 0\n",
    "    for action in match:\n",
    "        if action[0] == equipe and action[1] == \"E\":\n",
    "            nb_essais += 1\n",
    "    return nb_essais\n",
    "\n",
    "# Exemple d'utilisation :\n",
    "M = [(\"Fr\", \"E\"), (\"Fr\", \"T\"), (\"An\", \"P\"), (\"Fr\", \"E\"), (\"Fr\", \"T\")]\n",
    "print('france',nombre_essai(M, 'Fr'))  # Output: 2\n",
    "print('angel',nombre_essai(M, 'An'))  # Output: 0\n"
   ]
  },
  {
   "cell_type": "code",
   "execution_count": 51,
   "id": "1243138c-2f96-417f-b700-ab5a01424b3e",
   "metadata": {},
   "outputs": [
    {
     "name": "stdout",
     "output_type": "stream",
     "text": [
      "france 14\n",
      "angel 3\n"
     ]
    }
   ],
   "source": [
    "def score(match, equipe):\n",
    "    points = 0\n",
    "    for action in match:\n",
    "        if action[0] == equipe:\n",
    "            if action[1] == \"E\":\n",
    "                points += 5\n",
    "            elif action[1] == \"T\":\n",
    "                points += 2\n",
    "            elif action[1] == \"P\" or action[1] == \"D\":\n",
    "                points += 3\n",
    "    return points\n",
    "\n",
    "# Exemple d'utilisation :\n",
    "M = [(\"Fr\", \"E\"), (\"Fr\", \"T\"), (\"An\", \"P\"), (\"Fr\", \"E\"), (\"Fr\", \"T\")]\n",
    "print('france',score(M, 'Fr'))  # Output: 14\n",
    "print('angel',score(M, 'An'))  # Output: 3\n"
   ]
  },
  {
   "cell_type": "code",
   "execution_count": null,
   "id": "58afd452-d319-4fa1-b585-dff5db747d9c",
   "metadata": {},
   "outputs": [],
   "source": []
  }
 ],
 "metadata": {
  "kernelspec": {
   "display_name": "Python 3 (ipykernel)",
   "language": "python",
   "name": "python3"
  },
  "language_info": {
   "codemirror_mode": {
    "name": "ipython",
    "version": 3
   },
   "file_extension": ".py",
   "mimetype": "text/x-python",
   "name": "python",
   "nbconvert_exporter": "python",
   "pygments_lexer": "ipython3",
   "version": "3.11.3"
  }
 },
 "nbformat": 4,
 "nbformat_minor": 5
}
