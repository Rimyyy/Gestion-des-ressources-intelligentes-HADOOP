{
 "cells": [
  {
   "cell_type": "markdown",
   "id": "3b989db3",
   "metadata": {},
   "source": [
    "Vous pouvez utiliser des algorithmes d'optimisation pour ajuster les configurations et améliorer la performance globale du cluster."
   ]
  },
  {
   "cell_type": "markdown",
   "id": "021fee84",
   "metadata": {},
   "source": [
    "## A. Algorithmes génétiques (GA)\n",
    "\n",
    "Un algorithme génétique simule le processus de la sélection naturelle pour trouver une configuration optimale.\n",
    "\n",
    "1. **Initialisation** : Générer aléatoirement des solutions possibles (par exemple, différentes configurations de ressources allouées).\n",
    "\n",
    "2. **Évaluation** : Utiliser une fonction de fitness pour évaluer chaque solution (par exemple, en fonction du temps d'exécution ou de la consommation de ressources).\n",
    "\n",
    "3. **Sélection** : Sélectionner les meilleures solutions basées sur la fitness.\n",
    "\n",
    "4. **Croisement et mutation** : Combiner et modifier les solutions sélectionnées pour créer une nouvelle génération de solutions.\n",
    "\n",
    "5. **Répétition** : Répéter le processus jusqu'à obtenir une configuration optimisée.\n",
    "\n",
    "## B. Optimisation par essaim de particules (PSO)\n",
    "\n",
    "L'optimisation par essaim de particules est un autre algorithme inspiré du comportement des oiseaux en essaim.\n",
    "\n",
    "1. **Initialisation** : Un groupe de \"particules\" représente différentes configurations possibles.\n",
    "\n",
    "2. **Mise à jour** : Chaque particule ajuste sa position en fonction de sa propre expérience et de celle de ses voisins.\n",
    "\n",
    "3. **Évaluation** : La fitness de chaque particule est évaluée en fonction de la performance (par exemple, le temps d'exécution ou l'utilisation des ressources).\n",
    "\n",
    "4. **Mise à jour des meilleures positions** : Les particules se déplacent vers les meilleures positions globales et locales.\n",
    "\n",
    "5. **Convergence** : Le processus se poursuit jusqu'à la convergence vers une solution optimale.\n"
   ]
  },
  {
   "cell_type": "code",
   "execution_count": 2,
   "id": "5ccef360",
   "metadata": {},
   "outputs": [],
   "source": [
    "import random\n",
    "import numpy as np"
   ]
  },
  {
   "cell_type": "code",
   "execution_count": 3,
   "id": "e1895381",
   "metadata": {},
   "outputs": [],
   "source": [
    "# Paramètres du cluster (exemple de configuration : CPU, RAM, Disque)\n",
    "def fitness(solution):\n",
    "    # Fonction de fitness qui évalue la performance\n",
    "    return np.sum(solution)  # Ex : on peut minimiser l'utilisation de ressources"
   ]
  },
  {
   "cell_type": "code",
   "execution_count": 4,
   "id": "9c3f8bdf",
   "metadata": {},
   "outputs": [],
   "source": [
    "# Sélection des meilleurs individus (par tournoi)\n",
    "def select_parents(population, scores, num_parents=2):\n",
    "    parents = []\n",
    "    for _ in range(len(population)):\n",
    "        tournament = random.sample(list(zip(population, scores)), k=3)  # Sélectionner un tournoi\n",
    "        parent = min(tournament, key=lambda x: x[1])[0]  # Choisir le meilleur individu\n",
    "        parents.append(parent)\n",
    "    return parents"
   ]
  },
  {
   "cell_type": "code",
   "execution_count": 5,
   "id": "d9c9472f",
   "metadata": {},
   "outputs": [],
   "source": [
    "# Croisement (mélange de deux parents pour produire des enfants)\n",
    "def crossover(parents, num_offspring=10):\n",
    "    offspring = []\n",
    "    for _ in range(num_offspring):\n",
    "        parent1, parent2 = random.sample(parents, 2)\n",
    "        crossover_point = random.randint(1, len(parent1) - 1)\n",
    "        child = np.concatenate((parent1[:crossover_point], parent2[crossover_point:]))\n",
    "        offspring.append(child)\n",
    "    return offspring"
   ]
  },
  {
   "cell_type": "code",
   "execution_count": 6,
   "id": "eee2bc43",
   "metadata": {},
   "outputs": [],
   "source": [
    "# Mutation (modification aléatoire des enfants)\n",
    "def mutate(offspring, mutation_rate=0.1):\n",
    "    for child in offspring:\n",
    "        if random.random() < mutation_rate:\n",
    "            mutation_point = random.randint(0, len(child) - 1)\n",
    "            child[mutation_point] = random.randint(1, 100)  # Nouvelle valeur aléatoire\n",
    "    return offspring"
   ]
  },
  {
   "cell_type": "code",
   "execution_count": 7,
   "id": "0aed403d",
   "metadata": {},
   "outputs": [],
   "source": [
    "# Algorithme génétique\n",
    "def genetic_algorithm(pop_size, n_generations, n_resources):\n",
    "    # Initialisation\n",
    "    population = [np.random.randint(1, 100, size=n_resources) for _ in range(pop_size)]\n",
    "    \n",
    "    for generation in range(n_generations):\n",
    "        # Évaluation des solutions\n",
    "        scores = [fitness(individual) for individual in population]\n",
    "        best_idx = np.argmin(scores)\n",
    "        print(f\"Génération {generation+1} : Meilleur score = {scores[best_idx]}\")\n",
    "        \n",
    "        # Sélection des meilleurs individus\n",
    "        parents = select_parents(population, scores)\n",
    "        \n",
    "        # Croisement et mutation\n",
    "        offspring = crossover(parents)\n",
    "        offspring = mutate(offspring)\n",
    "        \n",
    "        # Nouvelle population\n",
    "        population = parents + offspring\n",
    "    \n",
    "    # Meilleure solution finale\n",
    "    scores = [fitness(individual) for individual in population]  # Recalculer les scores\n",
    "    best_idx = np.argmin(scores)\n",
    "    return population[best_idx]"
   ]
  },
  {
   "cell_type": "code",
   "execution_count": 8,
   "id": "1a870c8b",
   "metadata": {},
   "outputs": [
    {
     "name": "stdout",
     "output_type": "stream",
     "text": [
      "Génération 1 : Meilleur score = 58\n",
      "Génération 2 : Meilleur score = 58\n",
      "Génération 3 : Meilleur score = 53\n",
      "Génération 4 : Meilleur score = 46\n",
      "Génération 5 : Meilleur score = 44\n",
      "Génération 6 : Meilleur score = 44\n",
      "Génération 7 : Meilleur score = 26\n",
      "Génération 8 : Meilleur score = 26\n",
      "Génération 9 : Meilleur score = 26\n",
      "Génération 10 : Meilleur score = 26\n",
      "Génération 11 : Meilleur score = 26\n",
      "Génération 12 : Meilleur score = 26\n",
      "Génération 13 : Meilleur score = 26\n",
      "Génération 14 : Meilleur score = 22\n",
      "Génération 15 : Meilleur score = 22\n",
      "Génération 16 : Meilleur score = 22\n",
      "Génération 17 : Meilleur score = 22\n",
      "Génération 18 : Meilleur score = 22\n",
      "Génération 19 : Meilleur score = 22\n",
      "Génération 20 : Meilleur score = 22\n",
      "Génération 21 : Meilleur score = 22\n",
      "Génération 22 : Meilleur score = 22\n",
      "Génération 23 : Meilleur score = 22\n",
      "Génération 24 : Meilleur score = 22\n",
      "Génération 25 : Meilleur score = 22\n",
      "Génération 26 : Meilleur score = 22\n",
      "Génération 27 : Meilleur score = 22\n",
      "Génération 28 : Meilleur score = 22\n",
      "Génération 29 : Meilleur score = 22\n",
      "Génération 30 : Meilleur score = 22\n",
      "Génération 31 : Meilleur score = 12\n",
      "Génération 32 : Meilleur score = 12\n",
      "Génération 33 : Meilleur score = 12\n",
      "Génération 34 : Meilleur score = 12\n",
      "Génération 35 : Meilleur score = 12\n",
      "Génération 36 : Meilleur score = 12\n",
      "Génération 37 : Meilleur score = 12\n",
      "Génération 38 : Meilleur score = 12\n",
      "Génération 39 : Meilleur score = 12\n",
      "Génération 40 : Meilleur score = 12\n",
      "Génération 41 : Meilleur score = 12\n",
      "Génération 42 : Meilleur score = 12\n",
      "Génération 43 : Meilleur score = 12\n",
      "Génération 44 : Meilleur score = 12\n",
      "Génération 45 : Meilleur score = 12\n",
      "Génération 46 : Meilleur score = 12\n",
      "Génération 47 : Meilleur score = 12\n",
      "Génération 48 : Meilleur score = 12\n",
      "Génération 49 : Meilleur score = 12\n",
      "Génération 50 : Meilleur score = 12\n",
      "Meilleure configuration de ressources : [1 9 2]\n"
     ]
    }
   ],
   "source": [
    "# Exemple d'exécution\n",
    "best_solution = genetic_algorithm(pop_size=20, n_generations=50, n_resources=3)\n",
    "print(f\"Meilleure configuration de ressources : {best_solution}\")"
   ]
  },
  {
   "cell_type": "code",
   "execution_count": null,
   "id": "e853e8f5",
   "metadata": {},
   "outputs": [],
   "source": []
  }
 ],
 "metadata": {
  "kernelspec": {
   "display_name": "Python 3 (ipykernel)",
   "language": "python",
   "name": "python3"
  },
  "language_info": {
   "codemirror_mode": {
    "name": "ipython",
    "version": 3
   },
   "file_extension": ".py",
   "mimetype": "text/x-python",
   "name": "python",
   "nbconvert_exporter": "python",
   "pygments_lexer": "ipython3",
   "version": "3.10.8"
  }
 },
 "nbformat": 4,
 "nbformat_minor": 5
}
