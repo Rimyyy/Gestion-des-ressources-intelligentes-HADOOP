{
 "cells": [
  {
   "cell_type": "code",
   "execution_count": 1,
   "id": "74446392",
   "metadata": {},
   "outputs": [],
   "source": [
    "import pandas as pd\n",
    "import numpy as np\n",
    "from sklearn.model_selection import train_test_split\n",
    "from sklearn.linear_model import LinearRegression\n",
    "from sklearn.metrics import mean_squared_error, r2_score\n",
    "import matplotlib.pyplot as plt"
   ]
  },
  {
   "cell_type": "code",
   "execution_count": 4,
   "id": "b0eae447",
   "metadata": {},
   "outputs": [
    {
     "name": "stdout",
     "output_type": "stream",
     "text": [
      "   cpu_usage  memory_usage  disk_usage  task_duration\n",
      "0         61            23          98            271\n",
      "1         24            18          80            456\n",
      "2         81            99          18            280\n",
      "3         70            62          97            286\n",
      "4         30            11          10            192\n"
     ]
    }
   ],
   "source": [
    "# Paramètres de simulation\n",
    "n_nodes = 50  # Nombre de nœuds\n",
    "np.random.seed(42)  # Pour la reproductibilité\n",
    "\n",
    "data = {\n",
    "    'cpu_usage': np.random.randint(10, 100, size=n_nodes),  # Usage CPU en %\n",
    "    'memory_usage': np.random.randint(10, 100, size=n_nodes),  # Usage mémoire en %\n",
    "    'disk_usage': np.random.randint(10, 100, size=n_nodes),  # Usage disque en %\n",
    "    'task_duration': np.random.randint(50, 500, size=n_nodes)  # Durée d'une tâche en ms\n",
    "}\n",
    "\n",
    "# Création d'un DataFrame\n",
    "df = pd.DataFrame(data)\n",
    "\n",
    "# Affichage des premières lignes\n",
    "print(df.head())\n",
    "\n",
    "# Enregistrement du DataFrame en fichier CSV\n",
    "df.to_csv('ressources.csv', index=False)"
   ]
  },
  {
   "cell_type": "code",
   "execution_count": 5,
   "id": "f2b3ee47",
   "metadata": {},
   "outputs": [
    {
     "data": {
      "text/html": [
       "<div>\n",
       "<style scoped>\n",
       "    .dataframe tbody tr th:only-of-type {\n",
       "        vertical-align: middle;\n",
       "    }\n",
       "\n",
       "    .dataframe tbody tr th {\n",
       "        vertical-align: top;\n",
       "    }\n",
       "\n",
       "    .dataframe thead th {\n",
       "        text-align: right;\n",
       "    }\n",
       "</style>\n",
       "<table border=\"1\" class=\"dataframe\">\n",
       "  <thead>\n",
       "    <tr style=\"text-align: right;\">\n",
       "      <th></th>\n",
       "      <th>cpu_usage</th>\n",
       "      <th>memory_usage</th>\n",
       "      <th>disk_usage</th>\n",
       "      <th>task_duration</th>\n",
       "    </tr>\n",
       "  </thead>\n",
       "  <tbody>\n",
       "    <tr>\n",
       "      <th>0</th>\n",
       "      <td>61</td>\n",
       "      <td>23</td>\n",
       "      <td>98</td>\n",
       "      <td>271</td>\n",
       "    </tr>\n",
       "    <tr>\n",
       "      <th>1</th>\n",
       "      <td>24</td>\n",
       "      <td>18</td>\n",
       "      <td>80</td>\n",
       "      <td>456</td>\n",
       "    </tr>\n",
       "    <tr>\n",
       "      <th>2</th>\n",
       "      <td>81</td>\n",
       "      <td>99</td>\n",
       "      <td>18</td>\n",
       "      <td>280</td>\n",
       "    </tr>\n",
       "    <tr>\n",
       "      <th>3</th>\n",
       "      <td>70</td>\n",
       "      <td>62</td>\n",
       "      <td>97</td>\n",
       "      <td>286</td>\n",
       "    </tr>\n",
       "    <tr>\n",
       "      <th>4</th>\n",
       "      <td>30</td>\n",
       "      <td>11</td>\n",
       "      <td>10</td>\n",
       "      <td>192</td>\n",
       "    </tr>\n",
       "  </tbody>\n",
       "</table>\n",
       "</div>"
      ],
      "text/plain": [
       "   cpu_usage  memory_usage  disk_usage  task_duration\n",
       "0         61            23          98            271\n",
       "1         24            18          80            456\n",
       "2         81            99          18            280\n",
       "3         70            62          97            286\n",
       "4         30            11          10            192"
      ]
     },
     "execution_count": 5,
     "metadata": {},
     "output_type": "execute_result"
    }
   ],
   "source": [
    "data = pd.read_csv('ressources.csv')\n",
    "data.head()"
   ]
  },
  {
   "cell_type": "code",
   "execution_count": 6,
   "id": "b2255899",
   "metadata": {},
   "outputs": [],
   "source": [
    "X = df[['cpu_usage', 'memory_usage', 'disk_usage']]\n",
    "y = df['task_duration']\n",
    "\n",
    "# Séparation des données en ensemble d'entraînement et de test\n",
    "X_train, X_test, y_train, y_test = train_test_split(X, y, test_size=0.3, random_state=42)"
   ]
  },
  {
   "cell_type": "code",
   "execution_count": 8,
   "id": "0dc864c7",
   "metadata": {},
   "outputs": [],
   "source": [
    "# Création du modèle\n",
    "model = LinearRegression()\n",
    "\n",
    "# Entraînement du modèle sur les données d'entraînement\n",
    "model.fit(X_train, y_train)\n",
    "\n",
    "# Prédictions sur l'ensemble de test\n",
    "y_pred = model.predict(X_test)"
   ]
  },
  {
   "cell_type": "code",
   "execution_count": 9,
   "id": "9879c986",
   "metadata": {},
   "outputs": [],
   "source": [
    "# Calcul de l'erreur quadratique moyenne (MSE) et du coefficient de détermination (R²)\n",
    "mse = mean_squared_error(y_test, y_pred)\n",
    "r2 = r2_score(y_test, y_pred)"
   ]
  },
  {
   "cell_type": "code",
   "execution_count": 10,
   "id": "223b5b41",
   "metadata": {},
   "outputs": [
    {
     "name": "stdout",
     "output_type": "stream",
     "text": [
      "Mean Squared Error (MSE) : 24002.329495894224\n",
      "Coefficient of Determination (R²) : -0.42948760928595053\n"
     ]
    }
   ],
   "source": [
    "print(f\"Mean Squared Error (MSE) : {mse}\")\n",
    "print(f\"Coefficient of Determination (R²) : {r2}\")"
   ]
  },
  {
   "cell_type": "code",
   "execution_count": 11,
   "id": "1ec6bdf7",
   "metadata": {},
   "outputs": [
    {
     "data": {
      "image/png": "[encoded data removed]",
      "text/plain": [
       "<Figure size 640x480 with 1 Axes>"
      ]
     },
     "metadata": {},
     "output_type": "display_data"
    }
   ],
   "source": [
    "# Tracé des valeurs réelles vs prédites\n",
    "plt.scatter(y_test, y_pred)\n",
    "plt.plot([min(y_test), max(y_test)], [min(y_test), max(y_test)], color='red', linestyle='--')\n",
    "plt.xlabel('Valeurs réelles')\n",
    "plt.ylabel('Valeurs prédites')\n",
    "plt.title('Régression linéaire multiple - Durée des tâches')\n",
    "plt.show()\n"
   ]
  },
  {
   "cell_type": "code",
   "execution_count": 12,
   "id": "dc669d3f",
   "metadata": {},
   "outputs": [
    {
     "name": "stdout",
     "output_type": "stream",
     "text": [
      "              Coefficient\n",
      "cpu_usage       -0.850139\n",
      "memory_usage     0.108404\n",
      "disk_usage      -1.055945\n"
     ]
    }
   ],
   "source": [
    "coeff_df = pd.DataFrame(model.coef_, X.columns, columns=['Coefficient'])\n",
    "print(coeff_df)"
   ]
  },
  {
   "cell_type": "code",
   "execution_count": null,
   "id": "f82993ac",
   "metadata": {},
   "outputs": [],
   "source": []
  }
 ],
 "metadata": {
  "kernelspec": {
   "display_name": "Python 3 (ipykernel)",
   "language": "python",
   "name": "python3"
  },
  "language_info": {
   "codemirror_mode": {
    "name": "ipython",
    "version": 3
   },
   "file_extension": ".py",
   "mimetype": "text/x-python",
   "name": "python",
   "nbconvert_exporter": "python",
   "pygments_lexer": "ipython3",
   "version": "3.10.8"
  }
 },
 "nbformat": 4,
 "nbformat_minor": 5
}
